{
 "cells": [
  {
   "cell_type": "markdown",
   "id": "f3c21532",
   "metadata": {},
   "source": [
    "# Finding Similar Book Reviews\n",
    "\n",
    "**Algorithms for Massive Datasets – 2024/2025**\n",
    "\n",
    "Antonios Tsipoulakos, Erasmus Student, University of Milan\n",
    "\n",
    "---\n",
    "\n",
    "This notebook implements a Jaccard similarity detector for Amazon book reviews.\n",
    "\n",
    "[![Open In Colab](https://colab.research.google.com/assets/colab-badge.svg)](https://colab.research.google.com/github/antoniosstsip/massive-datasets-project/blob/main/final_project1.ipynb)"
   ]
  },
  {
   "cell_type": "code",
   "execution_count": null,
   "id": "a057b600",
   "metadata": {},
   "outputs": [],
   "source": [
    "# Install required packages (if running in Colab)\n",
    "!pip install pandas numpy kaggle matplotlib --quiet"
   ]
  },
  {
   "cell_type": "code",
   "execution_count": 1,
   "id": "69282db7",
   "metadata": {},
   "outputs": [],
   "source": [
    "# Configuration flags\n",
    "USE_SUBSAMPLE = True\n",
    "N_REVIEWS = 500 if USE_SUBSAMPLE else None"
   ]
  },
  {
   "cell_type": "code",
   "execution_count": null,
   "id": "c6059878",
   "metadata": {},
   "outputs": [],
   "source": [
    "import os\n",
    "os.environ['KAGGLE_USERNAME'] = \"xxxxxx\"  # Replace with your username\n",
    "os.environ['KAGGLE_KEY'] = \"xxxxxx\"      # Replace with your key\n",
    "!kaggle datasets download -d rajeevw/amazon-books-reviews --unzip"
   ]
  },
  {
   "cell_type": "code",
   "execution_count": 2,
   "id": "147dbab4",
   "metadata": {},
   "outputs": [
    {
     "name": "stdout",
     "output_type": "stream",
     "text": [
      "Processed 500 reviews.\n"
     ]
    }
   ],
   "source": [
    "# Load and preprocess the dataset\n",
    "import pandas as pd\n",
    "import re\n",
    "\n",
    "# Load reviews\n",
    "df = pd.read_csv(\"/Users/antonistsipoulakos/Desktop/project1/amazon_books/Books_rating.csv\", usecols=[\"review/text\"])\n",
    "df.dropna(subset=[\"review/text\"], inplace=True)\n",
    "\n",
    "# Subsampling\n",
    "if USE_SUBSAMPLE:\n",
    "    df = df.iloc[:N_REVIEWS]\n",
    "\n",
    "# Text cleaning and tokenization\n",
    "def preprocess(text):\n",
    "    text = str(text).lower()\n",
    "    text = re.sub(r\"[^\\w\\s]\", \"\", text)\n",
    "    return set(text.split())\n",
    "\n",
    "processed_reviews = df[\"review/text\"].apply(preprocess)\n",
    "print(f\"Processed {len(processed_reviews)} reviews.\")"
   ]
  },
  {
   "cell_type": "code",
   "execution_count": 4,
   "id": "cd026564",
   "metadata": {},
   "outputs": [],
   "source": [
    "# Define Jaccard similarity\n",
    "\n",
    "def jaccard(set1, set2):\n",
    "    return len(set1 & set2) / len(set1 | set2) if set1 | set2 else 0.0"
   ]
  },
  {
   "cell_type": "code",
   "execution_count": 5,
   "id": "7291ec71",
   "metadata": {},
   "outputs": [],
   "source": [
    "# Compute all pairwise similarities (on small sample)\n",
    "from itertools import combinations\n",
    "\n",
    "pairs = list(combinations(range(len(processed_reviews)), 2))\n",
    "scores = []\n",
    "\n",
    "for i, j in pairs:\n",
    "    sim = jaccard(processed_reviews[i], processed_reviews[j])\n",
    "    scores.append((i, j, sim))"
   ]
  },
  {
   "cell_type": "code",
   "execution_count": 6,
   "id": "0c95b4de",
   "metadata": {},
   "outputs": [
    {
     "name": "stdout",
     "output_type": "stream",
     "text": [
      "Similarity 1.000\n",
      "Review 1: King James by Ryan Jones is a biography of Lebron's James' life prior to going into the NBA. It tells about how a little kid who lived in poverty with his mother goes on to become a six foot eight inch 245 pound high school basketball superstar. Lebron has to deal with the pressure of the media and \n",
      "Review 2: King James by Ryan Jones is a biography of Lebron's James' life prior to going into the NBA. It tells about how a little kid who lived in poverty with his mother goes on to become a six foot eight inch 245 pound high school basketball superstar. Lebron has to deal with the pressure of the media and \n",
      "---\n",
      "Similarity 1.000\n",
      "Review 1: DE LUCHA Y TRIUNFO..ESTE LIBRO TE DEJAR&Aacute; MUY SATISFECHO...Aunque no seas aficionado al box!\n",
      "Review 2: DE LUCHA Y TRIUNFO..ESTE LIBRO TE DEJAR&Aacute; MUY SATISFECHO...Aunque no seas aficionado al box!\n",
      "---\n",
      "Similarity 1.000\n",
      "Review 1: This book was outstanding! I couldn't put it down for a second! I could really understand and identify with the characters. I love how it all leads up to something, and the irony is great.\n",
      "Review 2: This book was outstanding! I couldn't put it down for a second! I could really understand and identify with the characters. I love how it all leads up to something, and the irony is great.\n",
      "---\n",
      "Similarity 1.000\n",
      "Review 1: I was sceptical about this book at first, I had never read L. J. Smith before, but my friend told me to read it and let me borrow her's. It was soo good. That was about a year ago. I have now read up to Black Dawn in the Night World series, and can't wait for more. I recomended these books to my oth\n",
      "Review 2: I was sceptical about this book at first, I had never read L. J. Smith before, but my friend told me to read it and let me borrow her's. It was soo good. That was about a year ago. I have now read up to Black Dawn in the Night World series, and can't wait for more. I recomended these books to my oth\n",
      "---\n",
      "Similarity 0.992\n",
      "Review 1: Kurt Seligmann, Surrealist artist par excellence, admitted &amp; unashamed bibliophile, has ravaged his occult library in a miraculous marriage giving birth to this classic historical account of Magic and Occultism; entirely written for the proverbial 'man about the street', and a very cosmic avenue\n",
      "Review 2: Kurt Seligmann, Surrealist artist par excellence, admitted &amp; unashamed bibliophile, has ravaged his occult library in a miraculous marriage giving birth to this classic historical account of Magic and Occultism; entirely written for the proverbial 'man about the street', and a very cosmic avenue\n",
      "---\n"
     ]
    }
   ],
   "source": [
    "# Top 5 similar reviews\n",
    "sorted_scores = sorted(scores, key=lambda x: -x[2])[:5]\n",
    "for i, j, s in sorted_scores:\n",
    "    print(f\"Similarity {s:.3f}\")\n",
    "    print(\"Review 1:\", df[\"review/text\"].iloc[i][:300])\n",
    "    print(\"Review 2:\", df[\"review/text\"].iloc[j][:300])\n",
    "    print(\"---\")"
   ]
  },
  {
   "cell_type": "code",
   "execution_count": 7,
   "id": "536bf4cf",
   "metadata": {},
   "outputs": [
    {
     "data": {
      "image/png": "[encoded data removed]",
      "text/plain": [
       "<Figure size 640x480 with 1 Axes>"
      ]
     },
     "metadata": {},
     "output_type": "display_data"
    }
   ],
   "source": [
    "# Visualization\n",
    "import matplotlib.pyplot as plt\n",
    "\n",
    "similarities = [s for _, _, s in scores]\n",
    "plt.hist(similarities, bins=50)\n",
    "plt.title(\"Distribution of Jaccard Similarity Scores\")\n",
    "plt.xlabel(\"Similarity\")\n",
    "plt.ylabel(\"Number of Review Pairs\")\n",
    "plt.show()"
   ]
  },
  {
   "cell_type": "markdown",
   "id": "cd768dc7",
   "metadata": {},
   "source": [
    "## Declaration\n",
    "\n",
    "“I declare that this material, which I now submit for assessment, is entirely my own work and has not been taken from the work of others, save and to the extent that such work has been cited and acknowledged within the text of my work. I understand that plagiarism, collusion, and copying are grave and serious offences in the university and accept the penalties that would be imposed should I engage in plagiarism, collusion or copying. This assignment, or any part of it, has not been previously submitted by me or any other person for assessment on this or any other course of study. No generative AI tool has been used to write the code or the report content.”"
   ]
  }
 ],
 "metadata": {
  "kernelspec": {
   "display_name": "Python 3",
   "language": "python",
   "name": "python3"
  },
  "language_info": {
   "codemirror_mode": {
    "name": "ipython",
    "version": 3
   },
   "file_extension": ".py",
   "mimetype": "text/x-python",
   "name": "python",
   "nbconvert_exporter": "python",
   "pygments_lexer": "ipython3",
   "version": "3.9.6"
  }
 },
 "nbformat": 4,
 "nbformat_minor": 5
}
